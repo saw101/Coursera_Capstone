{
 "cells": [
  {
   "cell_type": "markdown",
   "metadata": {},
   "source": [
    "# Capstone Project\n",
    "##### Author : Syed Abdul Wasay"
   ]
  },
  {
   "cell_type": "code",
   "execution_count": 2,
   "metadata": {},
   "outputs": [],
   "source": [
    "import pandas as pd\n",
    "import numpy as np\n",
    "import seaborn as sns\n",
    "import matplotlib.pyplot as plt\n",
    "%matplotlib inline"
   ]
  },
  {
   "cell_type": "markdown",
   "metadata": {},
   "source": [
    "### Data Wrangling, Identifying and handling missing values"
   ]
  },
  {
   "cell_type": "code",
   "execution_count": 35,
   "metadata": {},
   "outputs": [
    {
     "name": "stderr",
     "output_type": "stream",
     "text": [
      "c:\\users\\ulixe\\appdata\\local\\programs\\python\\python38\\lib\\site-packages\\IPython\\core\\interactiveshell.py:3062: DtypeWarning: Columns (33) have mixed types.Specify dtype option on import or set low_memory=False.\n",
      "  has_raised = await self.run_ast_nodes(code_ast.body, cell_name,\n"
     ]
    }
   ],
   "source": [
    "# reading the source file\n",
    "df_source = pd.read_csv(r\"C:\\Users\\ulixe\\Desktop\\My_Docs\\IBM_Coursera\\9.AppliedDataScienceCapstoneProject\\Data-Collisions.csv\")"
   ]
  },
  {
   "cell_type": "code",
   "execution_count": 36,
   "metadata": {
    "collapsed": true
   },
   "outputs": [
    {
     "name": "stdout",
     "output_type": "stream",
     "text": [
      "SEVERITYCODE        int64\n",
      "X                 float64\n",
      "Y                 float64\n",
      "OBJECTID            int64\n",
      "INCKEY              int64\n",
      "COLDETKEY           int64\n",
      "REPORTNO           object\n",
      "STATUS             object\n",
      "ADDRTYPE           object\n",
      "INTKEY            float64\n",
      "LOCATION           object\n",
      "EXCEPTRSNCODE      object\n",
      "EXCEPTRSNDESC      object\n",
      "SEVERITYCODE.1      int64\n",
      "SEVERITYDESC       object\n",
      "COLLISIONTYPE      object\n",
      "PERSONCOUNT         int64\n",
      "PEDCOUNT            int64\n",
      "PEDCYLCOUNT         int64\n",
      "VEHCOUNT            int64\n",
      "INCDATE            object\n",
      "INCDTTM            object\n",
      "JUNCTIONTYPE       object\n",
      "SDOT_COLCODE        int64\n",
      "SDOT_COLDESC       object\n",
      "INATTENTIONIND     object\n",
      "UNDERINFL          object\n",
      "WEATHER            object\n",
      "ROADCOND           object\n",
      "LIGHTCOND          object\n",
      "PEDROWNOTGRNT      object\n",
      "SDOTCOLNUM        float64\n",
      "SPEEDING           object\n",
      "ST_COLCODE         object\n",
      "ST_COLDESC         object\n",
      "SEGLANEKEY          int64\n",
      "CROSSWALKKEY        int64\n",
      "HITPARKEDCAR       object\n",
      "dtype: object\n"
     ]
    }
   ],
   "source": [
    "print(df_source.dtypes)"
   ]
  },
  {
   "cell_type": "code",
   "execution_count": 12,
   "metadata": {
    "collapsed": true
   },
   "outputs": [
    {
     "data": {
      "text/html": [
       "<div>\n",
       "<style scoped>\n",
       "    .dataframe tbody tr th:only-of-type {\n",
       "        vertical-align: middle;\n",
       "    }\n",
       "\n",
       "    .dataframe tbody tr th {\n",
       "        vertical-align: top;\n",
       "    }\n",
       "\n",
       "    .dataframe thead th {\n",
       "        text-align: right;\n",
       "    }\n",
       "</style>\n",
       "<table border=\"1\" class=\"dataframe\">\n",
       "  <thead>\n",
       "    <tr style=\"text-align: right;\">\n",
       "      <th></th>\n",
       "      <th>SEVERITYCODE</th>\n",
       "      <th>X</th>\n",
       "      <th>Y</th>\n",
       "      <th>OBJECTID</th>\n",
       "      <th>INCKEY</th>\n",
       "      <th>COLDETKEY</th>\n",
       "      <th>REPORTNO</th>\n",
       "      <th>STATUS</th>\n",
       "      <th>ADDRTYPE</th>\n",
       "      <th>INTKEY</th>\n",
       "      <th>...</th>\n",
       "      <th>ROADCOND</th>\n",
       "      <th>LIGHTCOND</th>\n",
       "      <th>PEDROWNOTGRNT</th>\n",
       "      <th>SDOTCOLNUM</th>\n",
       "      <th>SPEEDING</th>\n",
       "      <th>ST_COLCODE</th>\n",
       "      <th>ST_COLDESC</th>\n",
       "      <th>SEGLANEKEY</th>\n",
       "      <th>CROSSWALKKEY</th>\n",
       "      <th>HITPARKEDCAR</th>\n",
       "    </tr>\n",
       "  </thead>\n",
       "  <tbody>\n",
       "    <tr>\n",
       "      <th>0</th>\n",
       "      <td>2</td>\n",
       "      <td>-122.323148</td>\n",
       "      <td>47.703140</td>\n",
       "      <td>1</td>\n",
       "      <td>1307</td>\n",
       "      <td>1307</td>\n",
       "      <td>3502005</td>\n",
       "      <td>Matched</td>\n",
       "      <td>Intersection</td>\n",
       "      <td>37475.0</td>\n",
       "      <td>...</td>\n",
       "      <td>Wet</td>\n",
       "      <td>Daylight</td>\n",
       "      <td>NaN</td>\n",
       "      <td>NaN</td>\n",
       "      <td>NaN</td>\n",
       "      <td>10</td>\n",
       "      <td>Entering at angle</td>\n",
       "      <td>0</td>\n",
       "      <td>0</td>\n",
       "      <td>N</td>\n",
       "    </tr>\n",
       "    <tr>\n",
       "      <th>1</th>\n",
       "      <td>1</td>\n",
       "      <td>-122.347294</td>\n",
       "      <td>47.647172</td>\n",
       "      <td>2</td>\n",
       "      <td>52200</td>\n",
       "      <td>52200</td>\n",
       "      <td>2607959</td>\n",
       "      <td>Matched</td>\n",
       "      <td>Block</td>\n",
       "      <td>NaN</td>\n",
       "      <td>...</td>\n",
       "      <td>Wet</td>\n",
       "      <td>Dark - Street Lights On</td>\n",
       "      <td>NaN</td>\n",
       "      <td>6354039.0</td>\n",
       "      <td>NaN</td>\n",
       "      <td>11</td>\n",
       "      <td>From same direction - both going straight - bo...</td>\n",
       "      <td>0</td>\n",
       "      <td>0</td>\n",
       "      <td>N</td>\n",
       "    </tr>\n",
       "    <tr>\n",
       "      <th>2</th>\n",
       "      <td>1</td>\n",
       "      <td>-122.334540</td>\n",
       "      <td>47.607871</td>\n",
       "      <td>3</td>\n",
       "      <td>26700</td>\n",
       "      <td>26700</td>\n",
       "      <td>1482393</td>\n",
       "      <td>Matched</td>\n",
       "      <td>Block</td>\n",
       "      <td>NaN</td>\n",
       "      <td>...</td>\n",
       "      <td>Dry</td>\n",
       "      <td>Daylight</td>\n",
       "      <td>NaN</td>\n",
       "      <td>4323031.0</td>\n",
       "      <td>NaN</td>\n",
       "      <td>32</td>\n",
       "      <td>One parked--one moving</td>\n",
       "      <td>0</td>\n",
       "      <td>0</td>\n",
       "      <td>N</td>\n",
       "    </tr>\n",
       "    <tr>\n",
       "      <th>3</th>\n",
       "      <td>1</td>\n",
       "      <td>-122.334803</td>\n",
       "      <td>47.604803</td>\n",
       "      <td>4</td>\n",
       "      <td>1144</td>\n",
       "      <td>1144</td>\n",
       "      <td>3503937</td>\n",
       "      <td>Matched</td>\n",
       "      <td>Block</td>\n",
       "      <td>NaN</td>\n",
       "      <td>...</td>\n",
       "      <td>Dry</td>\n",
       "      <td>Daylight</td>\n",
       "      <td>NaN</td>\n",
       "      <td>NaN</td>\n",
       "      <td>NaN</td>\n",
       "      <td>23</td>\n",
       "      <td>From same direction - all others</td>\n",
       "      <td>0</td>\n",
       "      <td>0</td>\n",
       "      <td>N</td>\n",
       "    </tr>\n",
       "    <tr>\n",
       "      <th>4</th>\n",
       "      <td>2</td>\n",
       "      <td>-122.306426</td>\n",
       "      <td>47.545739</td>\n",
       "      <td>5</td>\n",
       "      <td>17700</td>\n",
       "      <td>17700</td>\n",
       "      <td>1807429</td>\n",
       "      <td>Matched</td>\n",
       "      <td>Intersection</td>\n",
       "      <td>34387.0</td>\n",
       "      <td>...</td>\n",
       "      <td>Wet</td>\n",
       "      <td>Daylight</td>\n",
       "      <td>NaN</td>\n",
       "      <td>4028032.0</td>\n",
       "      <td>NaN</td>\n",
       "      <td>10</td>\n",
       "      <td>Entering at angle</td>\n",
       "      <td>0</td>\n",
       "      <td>0</td>\n",
       "      <td>N</td>\n",
       "    </tr>\n",
       "  </tbody>\n",
       "</table>\n",
       "<p>5 rows × 38 columns</p>\n",
       "</div>"
      ],
      "text/plain": [
       "   SEVERITYCODE           X          Y  OBJECTID  INCKEY  COLDETKEY REPORTNO  \\\n",
       "0             2 -122.323148  47.703140         1    1307       1307  3502005   \n",
       "1             1 -122.347294  47.647172         2   52200      52200  2607959   \n",
       "2             1 -122.334540  47.607871         3   26700      26700  1482393   \n",
       "3             1 -122.334803  47.604803         4    1144       1144  3503937   \n",
       "4             2 -122.306426  47.545739         5   17700      17700  1807429   \n",
       "\n",
       "    STATUS      ADDRTYPE   INTKEY  ... ROADCOND                LIGHTCOND  \\\n",
       "0  Matched  Intersection  37475.0  ...      Wet                 Daylight   \n",
       "1  Matched         Block      NaN  ...      Wet  Dark - Street Lights On   \n",
       "2  Matched         Block      NaN  ...      Dry                 Daylight   \n",
       "3  Matched         Block      NaN  ...      Dry                 Daylight   \n",
       "4  Matched  Intersection  34387.0  ...      Wet                 Daylight   \n",
       "\n",
       "  PEDROWNOTGRNT  SDOTCOLNUM SPEEDING ST_COLCODE  \\\n",
       "0           NaN         NaN      NaN         10   \n",
       "1           NaN   6354039.0      NaN         11   \n",
       "2           NaN   4323031.0      NaN         32   \n",
       "3           NaN         NaN      NaN         23   \n",
       "4           NaN   4028032.0      NaN         10   \n",
       "\n",
       "                                          ST_COLDESC  SEGLANEKEY  \\\n",
       "0                                  Entering at angle           0   \n",
       "1  From same direction - both going straight - bo...           0   \n",
       "2                             One parked--one moving           0   \n",
       "3                   From same direction - all others           0   \n",
       "4                                  Entering at angle           0   \n",
       "\n",
       "   CROSSWALKKEY  HITPARKEDCAR  \n",
       "0             0             N  \n",
       "1             0             N  \n",
       "2             0             N  \n",
       "3             0             N  \n",
       "4             0             N  \n",
       "\n",
       "[5 rows x 38 columns]"
      ]
     },
     "execution_count": 12,
     "metadata": {},
     "output_type": "execute_result"
    }
   ],
   "source": [
    "df_source.head()"
   ]
  },
  {
   "cell_type": "code",
   "execution_count": 37,
   "metadata": {},
   "outputs": [],
   "source": [
    "missing_data = df_source.isnull()"
   ]
  },
  {
   "cell_type": "code",
   "execution_count": 38,
   "metadata": {
    "collapsed": true
   },
   "outputs": [
    {
     "name": "stdout",
     "output_type": "stream",
     "text": [
      "SEVERITYCODE\n",
      "False    194673\n",
      "Name: SEVERITYCODE, dtype: int64\n",
      "\n",
      "X\n",
      "False    189339\n",
      "True       5334\n",
      "Name: X, dtype: int64\n",
      "\n",
      "Y\n",
      "False    189339\n",
      "True       5334\n",
      "Name: Y, dtype: int64\n",
      "\n",
      "OBJECTID\n",
      "False    194673\n",
      "Name: OBJECTID, dtype: int64\n",
      "\n",
      "INCKEY\n",
      "False    194673\n",
      "Name: INCKEY, dtype: int64\n",
      "\n",
      "COLDETKEY\n",
      "False    194673\n",
      "Name: COLDETKEY, dtype: int64\n",
      "\n",
      "REPORTNO\n",
      "False    194673\n",
      "Name: REPORTNO, dtype: int64\n",
      "\n",
      "STATUS\n",
      "False    194673\n",
      "Name: STATUS, dtype: int64\n",
      "\n",
      "ADDRTYPE\n",
      "False    192747\n",
      "True       1926\n",
      "Name: ADDRTYPE, dtype: int64\n",
      "\n",
      "INTKEY\n",
      "True     129603\n",
      "False     65070\n",
      "Name: INTKEY, dtype: int64\n",
      "\n",
      "LOCATION\n",
      "False    191996\n",
      "True       2677\n",
      "Name: LOCATION, dtype: int64\n",
      "\n",
      "EXCEPTRSNCODE\n",
      "True     109862\n",
      "False     84811\n",
      "Name: EXCEPTRSNCODE, dtype: int64\n",
      "\n",
      "EXCEPTRSNDESC\n",
      "True     189035\n",
      "False      5638\n",
      "Name: EXCEPTRSNDESC, dtype: int64\n",
      "\n",
      "SEVERITYCODE.1\n",
      "False    194673\n",
      "Name: SEVERITYCODE.1, dtype: int64\n",
      "\n",
      "SEVERITYDESC\n",
      "False    194673\n",
      "Name: SEVERITYDESC, dtype: int64\n",
      "\n",
      "COLLISIONTYPE\n",
      "False    189769\n",
      "True       4904\n",
      "Name: COLLISIONTYPE, dtype: int64\n",
      "\n",
      "PERSONCOUNT\n",
      "False    194673\n",
      "Name: PERSONCOUNT, dtype: int64\n",
      "\n",
      "PEDCOUNT\n",
      "False    194673\n",
      "Name: PEDCOUNT, dtype: int64\n",
      "\n",
      "PEDCYLCOUNT\n",
      "False    194673\n",
      "Name: PEDCYLCOUNT, dtype: int64\n",
      "\n",
      "VEHCOUNT\n",
      "False    194673\n",
      "Name: VEHCOUNT, dtype: int64\n",
      "\n",
      "INCDATE\n",
      "False    194673\n",
      "Name: INCDATE, dtype: int64\n",
      "\n",
      "INCDTTM\n",
      "False    194673\n",
      "Name: INCDTTM, dtype: int64\n",
      "\n",
      "JUNCTIONTYPE\n",
      "False    188344\n",
      "True       6329\n",
      "Name: JUNCTIONTYPE, dtype: int64\n",
      "\n",
      "SDOT_COLCODE\n",
      "False    194673\n",
      "Name: SDOT_COLCODE, dtype: int64\n",
      "\n",
      "SDOT_COLDESC\n",
      "False    194673\n",
      "Name: SDOT_COLDESC, dtype: int64\n",
      "\n",
      "INATTENTIONIND\n",
      "True     164868\n",
      "False     29805\n",
      "Name: INATTENTIONIND, dtype: int64\n",
      "\n",
      "UNDERINFL\n",
      "False    189789\n",
      "True       4884\n",
      "Name: UNDERINFL, dtype: int64\n",
      "\n",
      "WEATHER\n",
      "False    189592\n",
      "True       5081\n",
      "Name: WEATHER, dtype: int64\n",
      "\n",
      "ROADCOND\n",
      "False    189661\n",
      "True       5012\n",
      "Name: ROADCOND, dtype: int64\n",
      "\n",
      "LIGHTCOND\n",
      "False    189503\n",
      "True       5170\n",
      "Name: LIGHTCOND, dtype: int64\n",
      "\n",
      "PEDROWNOTGRNT\n",
      "True     190006\n",
      "False      4667\n",
      "Name: PEDROWNOTGRNT, dtype: int64\n",
      "\n",
      "SDOTCOLNUM\n",
      "False    114936\n",
      "True      79737\n",
      "Name: SDOTCOLNUM, dtype: int64\n",
      "\n",
      "SPEEDING\n",
      "True     185340\n",
      "False      9333\n",
      "Name: SPEEDING, dtype: int64\n",
      "\n",
      "ST_COLCODE\n",
      "False    194655\n",
      "True         18\n",
      "Name: ST_COLCODE, dtype: int64\n",
      "\n",
      "ST_COLDESC\n",
      "False    189769\n",
      "True       4904\n",
      "Name: ST_COLDESC, dtype: int64\n",
      "\n",
      "SEGLANEKEY\n",
      "False    194673\n",
      "Name: SEGLANEKEY, dtype: int64\n",
      "\n",
      "CROSSWALKKEY\n",
      "False    194673\n",
      "Name: CROSSWALKKEY, dtype: int64\n",
      "\n",
      "HITPARKEDCAR\n",
      "False    194673\n",
      "Name: HITPARKEDCAR, dtype: int64\n",
      "\n"
     ]
    }
   ],
   "source": [
    "# This block of code shows missing data on each column of the source dataset\n",
    "\n",
    "for column in missing_data.columns.values.tolist():\n",
    "    print(column)\n",
    "    print (missing_data[column].value_counts())\n",
    "    print(\"\") "
   ]
  },
  {
   "cell_type": "markdown",
   "metadata": {},
   "source": [
    "### Feature selection and Exploratory Data Analysis"
   ]
  },
  {
   "cell_type": "code",
   "execution_count": 39,
   "metadata": {},
   "outputs": [],
   "source": [
    "df = df_source[['SEVERITYCODE','ADDRTYPE','JUNCTIONTYPE','WEATHER', 'ROADCOND','LIGHTCOND', 'PERSONCOUNT','PEDCOUNT', 'PEDCYLCOUNT','VEHCOUNT','SEVERITYDESC', 'COLLISIONTYPE']]"
   ]
  },
  {
   "cell_type": "code",
   "execution_count": 40,
   "metadata": {
    "collapsed": true
   },
   "outputs": [
    {
     "data": {
      "text/plain": [
       "SEVERITYCODE        0\n",
       "ADDRTYPE         1926\n",
       "JUNCTIONTYPE     6329\n",
       "WEATHER          5081\n",
       "ROADCOND         5012\n",
       "LIGHTCOND        5170\n",
       "PERSONCOUNT         0\n",
       "PEDCOUNT            0\n",
       "PEDCYLCOUNT         0\n",
       "VEHCOUNT            0\n",
       "SEVERITYDESC        0\n",
       "COLLISIONTYPE    4904\n",
       "dtype: int64"
      ]
     },
     "execution_count": 40,
     "metadata": {},
     "output_type": "execute_result"
    }
   ],
   "source": [
    "df.isnull().sum()"
   ]
  },
  {
   "cell_type": "code",
   "execution_count": 41,
   "metadata": {},
   "outputs": [
    {
     "data": {
      "text/plain": [
       "(194673, 12)"
      ]
     },
     "execution_count": 41,
     "metadata": {},
     "output_type": "execute_result"
    }
   ],
   "source": [
    "df.shape"
   ]
  },
  {
   "cell_type": "code",
   "execution_count": 42,
   "metadata": {},
   "outputs": [
    {
     "name": "stderr",
     "output_type": "stream",
     "text": [
      "<ipython-input-42-c506f1976239>:1: SettingWithCopyWarning: \n",
      "A value is trying to be set on a copy of a slice from a DataFrame\n",
      "\n",
      "See the caveats in the documentation: https://pandas.pydata.org/pandas-docs/stable/user_guide/indexing.html#returning-a-view-versus-a-copy\n",
      "  df.dropna(axis=0,how='any',inplace=True)\n"
     ]
    }
   ],
   "source": [
    "df.dropna(axis=0,how='any',inplace=True)"
   ]
  },
  {
   "cell_type": "code",
   "execution_count": 43,
   "metadata": {},
   "outputs": [
    {
     "data": {
      "text/plain": [
       "(182895, 12)"
      ]
     },
     "execution_count": 43,
     "metadata": {},
     "output_type": "execute_result"
    }
   ],
   "source": [
    "df.shape"
   ]
  },
  {
   "cell_type": "code",
   "execution_count": 44,
   "metadata": {},
   "outputs": [
    {
     "data": {
      "text/plain": [
       "<matplotlib.axes._subplots.AxesSubplot at 0x27913e12790>"
      ]
     },
     "execution_count": 44,
     "metadata": {},
     "output_type": "execute_result"
    },
    {
     "data": {
      "image/png": "[encoded data removed]",
      "text/plain": [
       "<Figure size 432x288 with 1 Axes>"
      ]
     },
     "metadata": {
      "needs_background": "light"
     },
     "output_type": "display_data"
    }
   ],
   "source": [
    "# Looking at our Traget variable SEVERITYCODE 1 represents proper damage and SEVERITYCODE 2 equals an Injury\n",
    "\n",
    "sns.countplot(df['SEVERITYCODE'], data = df)"
   ]
  },
  {
   "cell_type": "code",
   "execution_count": 45,
   "metadata": {
    "collapsed": true
   },
   "outputs": [
    {
     "name": "stdout",
     "output_type": "stream",
     "text": [
      "SEVERITYCODE\n",
      "1    126270\n",
      "2     56625\n",
      "Name: SEVERITYCODE, dtype: int64\n",
      "\n",
      "ADDRTYPE\n",
      "Block           119362\n",
      "Intersection     63298\n",
      "Alley              235\n",
      "Name: ADDRTYPE, dtype: int64\n",
      "\n",
      "JUNCTIONTYPE\n",
      "Mid-Block (not related to intersection)              86609\n",
      "At Intersection (intersection related)               61206\n",
      "Mid-Block (but intersection related)                 22341\n",
      "Driveway Junction                                    10519\n",
      "At Intersection (but not related to intersection)     2055\n",
      "Ramp Junction                                          160\n",
      "Unknown                                                  5\n",
      "Name: JUNCTIONTYPE, dtype: int64\n",
      "\n",
      "WEATHER\n",
      "Clear                       109059\n",
      "Raining                      32642\n",
      "Overcast                     27183\n",
      "Unknown                      11637\n",
      "Snowing                        881\n",
      "Other                          746\n",
      "Fog/Smog/Smoke                 556\n",
      "Sleet/Hail/Freezing Rain       112\n",
      "Blowing Sand/Dirt               49\n",
      "Severe Crosswind                25\n",
      "Partly Cloudy                    5\n",
      "Name: WEATHER, dtype: int64\n",
      "\n",
      "ROADCOND\n",
      "Dry               122153\n",
      "Wet                46710\n",
      "Unknown            11519\n",
      "Ice                 1177\n",
      "Snow/Slush           978\n",
      "Other                123\n",
      "Standing Water       108\n",
      "Sand/Mud/Dirt         67\n",
      "Oil                   60\n",
      "Name: ROADCOND, dtype: int64\n",
      "\n",
      "LIGHTCOND\n",
      "Daylight                    113837\n",
      "Dark - Street Lights On      47547\n",
      "Unknown                      10448\n",
      "Dusk                          5771\n",
      "Dawn                          2453\n",
      "Dark - No Street Lights       1461\n",
      "Dark - Street Lights Off      1157\n",
      "Other                          210\n",
      "Dark - Unknown Lighting         11\n",
      "Name: LIGHTCOND, dtype: int64\n",
      "\n",
      "PERSONCOUNT\n",
      "2     105703\n",
      "3      34812\n",
      "4      14327\n",
      "1      11232\n",
      "5       6541\n",
      "0       5365\n",
      "6       2686\n",
      "7       1121\n",
      "8        531\n",
      "9        213\n",
      "10       127\n",
      "11        56\n",
      "12        33\n",
      "13        21\n",
      "14        19\n",
      "15        11\n",
      "17        11\n",
      "16         8\n",
      "44         6\n",
      "18         6\n",
      "20         6\n",
      "25         6\n",
      "19         5\n",
      "26         4\n",
      "22         4\n",
      "27         3\n",
      "28         3\n",
      "29         3\n",
      "47         3\n",
      "32         3\n",
      "34         3\n",
      "37         3\n",
      "23         2\n",
      "21         2\n",
      "24         2\n",
      "30         2\n",
      "36         2\n",
      "57         1\n",
      "31         1\n",
      "35         1\n",
      "39         1\n",
      "41         1\n",
      "43         1\n",
      "48         1\n",
      "53         1\n",
      "54         1\n",
      "81         1\n",
      "Name: PERSONCOUNT, dtype: int64\n",
      "\n",
      "PEDCOUNT\n",
      "0    176053\n",
      "1      6589\n",
      "2       225\n",
      "3        22\n",
      "4         4\n",
      "6         1\n",
      "5         1\n",
      "Name: PEDCOUNT, dtype: int64\n",
      "\n",
      "PEDCYLCOUNT\n",
      "0    177480\n",
      "1      5374\n",
      "2        41\n",
      "Name: PEDCYLCOUNT, dtype: int64\n",
      "\n",
      "VEHCOUNT\n",
      "2     141647\n",
      "1      25029\n",
      "3      12869\n",
      "4       2407\n",
      "5        526\n",
      "0        195\n",
      "6        144\n",
      "7         45\n",
      "8         15\n",
      "9          9\n",
      "11         6\n",
      "10         2\n",
      "12         1\n",
      "Name: VEHCOUNT, dtype: int64\n",
      "\n",
      "SEVERITYDESC\n",
      "Property Damage Only Collision    126270\n",
      "Injury Collision                   56625\n",
      "Name: SEVERITYDESC, dtype: int64\n",
      "\n",
      "COLLISIONTYPE\n",
      "Parked Car    43119\n",
      "Angles        34453\n",
      "Rear Ended    33641\n",
      "Other         22960\n",
      "Sideswipe     18285\n",
      "Left Turn     13637\n",
      "Pedestrian     6513\n",
      "Cycles         5362\n",
      "Right Turn     2929\n",
      "Head On        1996\n",
      "Name: COLLISIONTYPE, dtype: int64\n",
      "\n"
     ]
    }
   ],
   "source": [
    "for column in df.columns.values.tolist():\n",
    "    print(column)\n",
    "    print (df[column].value_counts())\n",
    "    print(\"\") "
   ]
  },
  {
   "cell_type": "code",
   "execution_count": 46,
   "metadata": {},
   "outputs": [
    {
     "data": {
      "text/plain": [
       "(182895, 12)"
      ]
     },
     "execution_count": 46,
     "metadata": {},
     "output_type": "execute_result"
    }
   ],
   "source": [
    "numerical = ['PERSONCOUNT','PEDCOUNT', 'PEDCYLCOUNT','VEHCOUNT','SEVERITYCODE']\n",
    "categorical = ['SEVERITYDESC','ADDRTYPE','COLLISIONTYPE','JUNCTIONTYPE','WEATHER','ROADCOND','LIGHTCOND']\n",
    "df = df[numerical + categorical]\n",
    "df.shape"
   ]
  },
  {
   "cell_type": "code",
   "execution_count": 47,
   "metadata": {},
   "outputs": [
    {
     "data": {
      "image/png": "[encoded data removed]",
      "text/plain": [
       "<Figure size 2160x360 with 7 Axes>"
      ]
     },
     "metadata": {
      "needs_background": "light"
     },
     "output_type": "display_data"
    }
   ],
   "source": [
    "fig , ax = plt.subplots(1,7,figsize=(30,5))\n",
    "for variable , subplot in zip(categorical, ax.flatten()):\n",
    "    sns.countplot(df[variable], ax=subplot)\n",
    "    plt.subplots_adjust(bottom=0.3, top=0.75)\n",
    "    for label in subplot.get_xticklabels():\n",
    "        label.set_rotation(90)"
   ]
  },
  {
   "cell_type": "code",
   "execution_count": 48,
   "metadata": {},
   "outputs": [],
   "source": [
    "correlation=df.corr()"
   ]
  },
  {
   "cell_type": "code",
   "execution_count": 49,
   "metadata": {},
   "outputs": [
    {
     "data": {
      "text/plain": [
       "<matplotlib.axes._subplots.AxesSubplot at 0x279162a3220>"
      ]
     },
     "execution_count": 49,
     "metadata": {},
     "output_type": "execute_result"
    },
    {
     "data": {
      "image/png": "[encoded data removed]",
      "text/plain": [
       "<Figure size 432x288 with 2 Axes>"
      ]
     },
     "metadata": {
      "needs_background": "light"
     },
     "output_type": "display_data"
    }
   ],
   "source": [
    "sns.heatmap(correlation,xticklabels=correlation.columns,yticklabels=correlation.columns,annot=True)"
   ]
  },
  {
   "cell_type": "code",
   "execution_count": 50,
   "metadata": {},
   "outputs": [
    {
     "data": {
      "text/plain": [
       "<seaborn.axisgrid.PairGrid at 0x2791636b100>"
      ]
     },
     "execution_count": 50,
     "metadata": {},
     "output_type": "execute_result"
    },
    {
     "data": {
      "image/png": "[encoded data removed]",
      "text/plain": [
       "<Figure size 900x900 with 30 Axes>"
      ]
     },
     "metadata": {
      "needs_background": "light"
     },
     "output_type": "display_data"
    }
   ],
   "source": [
    "sns.pairplot(df)"
   ]
  },
  {
   "cell_type": "code",
   "execution_count": 51,
   "metadata": {},
   "outputs": [
    {
     "data": {
      "text/plain": [
       "<seaborn.axisgrid.FacetGrid at 0x2790177fc40>"
      ]
     },
     "execution_count": 51,
     "metadata": {},
     "output_type": "execute_result"
    },
    {
     "data": {
      "image/png": "[encoded data removed]",
      "text/plain": [
       "<Figure size 1490.38x216 with 1 Axes>"
      ]
     },
     "metadata": {
      "needs_background": "light"
     },
     "output_type": "display_data"
    }
   ],
   "source": [
    "sns.catplot(x='WEATHER',kind='count', hue='SEVERITYDESC', data=df,height=3, aspect = 6)"
   ]
  },
  {
   "cell_type": "code",
   "execution_count": 33,
   "metadata": {},
   "outputs": [
    {
     "data": {
      "text/plain": [
       "<seaborn.axisgrid.FacetGrid at 0x1b03ac5a4c0>"
      ]
     },
     "execution_count": 33,
     "metadata": {},
     "output_type": "execute_result"
    },
    {
     "data": {
      "image/png": "[encoded data removed]",
      "text/plain": [
       "<Figure size 554.375x360 with 1 Axes>"
      ]
     },
     "metadata": {
      "needs_background": "light"
     },
     "output_type": "display_data"
    }
   ],
   "source": [
    "sns.relplot(x='PERSONCOUNT',y='VEHCOUNT',hue='SEVERITYDESC',data=df)"
   ]
  },
  {
   "cell_type": "code",
   "execution_count": 52,
   "metadata": {},
   "outputs": [],
   "source": [
    "#Converting categorical variables into numerical veriables\n",
    "from sklearn import preprocessing\n",
    "addrtype = preprocessing.LabelEncoder()\n",
    "addrtype.fit(df['ADDRTYPE'])\n",
    "df['ADDRTYPE']= addrtype.transform(df['ADDRTYPE'])\n",
    "\n",
    "jun = preprocessing.LabelEncoder()\n",
    "jun.fit(df['JUNCTIONTYPE'])\n",
    "df['JUNCTIONTYPE']= jun.transform(df['JUNCTIONTYPE'])\n",
    "\n",
    "weathercond = preprocessing.LabelEncoder()\n",
    "weathercond.fit(df['WEATHER'])\n",
    "df['WEATHER']= weathercond.transform(df['WEATHER'])\n",
    "\n",
    "roadcond = preprocessing.LabelEncoder()\n",
    "roadcond.fit(df['ROADCOND'])\n",
    "df['ROADCOND']= roadcond.transform(df['ROADCOND'])\n",
    "\n",
    "light = preprocessing.LabelEncoder()\n",
    "light.fit(df['LIGHTCOND'])\n",
    "df['LIGHTCOND']= light.transform(df['LIGHTCOND'])\n",
    "\n"
   ]
  },
  {
   "cell_type": "code",
   "execution_count": 53,
   "metadata": {},
   "outputs": [
    {
     "data": {
      "text/html": [
       "<div>\n",
       "<style scoped>\n",
       "    .dataframe tbody tr th:only-of-type {\n",
       "        vertical-align: middle;\n",
       "    }\n",
       "\n",
       "    .dataframe tbody tr th {\n",
       "        vertical-align: top;\n",
       "    }\n",
       "\n",
       "    .dataframe thead th {\n",
       "        text-align: right;\n",
       "    }\n",
       "</style>\n",
       "<table border=\"1\" class=\"dataframe\">\n",
       "  <thead>\n",
       "    <tr style=\"text-align: right;\">\n",
       "      <th></th>\n",
       "      <th>PERSONCOUNT</th>\n",
       "      <th>PEDCOUNT</th>\n",
       "      <th>PEDCYLCOUNT</th>\n",
       "      <th>VEHCOUNT</th>\n",
       "      <th>SEVERITYCODE</th>\n",
       "      <th>SEVERITYDESC</th>\n",
       "      <th>ADDRTYPE</th>\n",
       "      <th>COLLISIONTYPE</th>\n",
       "      <th>JUNCTIONTYPE</th>\n",
       "      <th>WEATHER</th>\n",
       "      <th>ROADCOND</th>\n",
       "      <th>LIGHTCOND</th>\n",
       "    </tr>\n",
       "  </thead>\n",
       "  <tbody>\n",
       "    <tr>\n",
       "      <th>0</th>\n",
       "      <td>2</td>\n",
       "      <td>0</td>\n",
       "      <td>0</td>\n",
       "      <td>2</td>\n",
       "      <td>2</td>\n",
       "      <td>Injury Collision</td>\n",
       "      <td>2</td>\n",
       "      <td>Angles</td>\n",
       "      <td>1</td>\n",
       "      <td>4</td>\n",
       "      <td>8</td>\n",
       "      <td>5</td>\n",
       "    </tr>\n",
       "    <tr>\n",
       "      <th>1</th>\n",
       "      <td>2</td>\n",
       "      <td>0</td>\n",
       "      <td>0</td>\n",
       "      <td>2</td>\n",
       "      <td>1</td>\n",
       "      <td>Property Damage Only Collision</td>\n",
       "      <td>1</td>\n",
       "      <td>Sideswipe</td>\n",
       "      <td>4</td>\n",
       "      <td>6</td>\n",
       "      <td>8</td>\n",
       "      <td>2</td>\n",
       "    </tr>\n",
       "    <tr>\n",
       "      <th>2</th>\n",
       "      <td>4</td>\n",
       "      <td>0</td>\n",
       "      <td>0</td>\n",
       "      <td>3</td>\n",
       "      <td>1</td>\n",
       "      <td>Property Damage Only Collision</td>\n",
       "      <td>1</td>\n",
       "      <td>Parked Car</td>\n",
       "      <td>4</td>\n",
       "      <td>4</td>\n",
       "      <td>0</td>\n",
       "      <td>5</td>\n",
       "    </tr>\n",
       "    <tr>\n",
       "      <th>3</th>\n",
       "      <td>3</td>\n",
       "      <td>0</td>\n",
       "      <td>0</td>\n",
       "      <td>3</td>\n",
       "      <td>1</td>\n",
       "      <td>Property Damage Only Collision</td>\n",
       "      <td>1</td>\n",
       "      <td>Other</td>\n",
       "      <td>4</td>\n",
       "      <td>1</td>\n",
       "      <td>0</td>\n",
       "      <td>5</td>\n",
       "    </tr>\n",
       "    <tr>\n",
       "      <th>4</th>\n",
       "      <td>2</td>\n",
       "      <td>0</td>\n",
       "      <td>0</td>\n",
       "      <td>2</td>\n",
       "      <td>2</td>\n",
       "      <td>Injury Collision</td>\n",
       "      <td>2</td>\n",
       "      <td>Angles</td>\n",
       "      <td>1</td>\n",
       "      <td>6</td>\n",
       "      <td>8</td>\n",
       "      <td>5</td>\n",
       "    </tr>\n",
       "  </tbody>\n",
       "</table>\n",
       "</div>"
      ],
      "text/plain": [
       "   PERSONCOUNT  PEDCOUNT  PEDCYLCOUNT  VEHCOUNT  SEVERITYCODE  \\\n",
       "0            2         0            0         2             2   \n",
       "1            2         0            0         2             1   \n",
       "2            4         0            0         3             1   \n",
       "3            3         0            0         3             1   \n",
       "4            2         0            0         2             2   \n",
       "\n",
       "                     SEVERITYDESC  ADDRTYPE COLLISIONTYPE  JUNCTIONTYPE  \\\n",
       "0                Injury Collision         2        Angles             1   \n",
       "1  Property Damage Only Collision         1     Sideswipe             4   \n",
       "2  Property Damage Only Collision         1    Parked Car             4   \n",
       "3  Property Damage Only Collision         1         Other             4   \n",
       "4                Injury Collision         2        Angles             1   \n",
       "\n",
       "   WEATHER  ROADCOND  LIGHTCOND  \n",
       "0        4         8          5  \n",
       "1        6         8          2  \n",
       "2        4         0          5  \n",
       "3        1         0          5  \n",
       "4        6         8          5  "
      ]
     },
     "execution_count": 53,
     "metadata": {},
     "output_type": "execute_result"
    }
   ],
   "source": [
    "df.head()"
   ]
  },
  {
   "cell_type": "markdown",
   "metadata": {},
   "source": [
    "## Predictive Modeling"
   ]
  },
  {
   "cell_type": "markdown",
   "metadata": {},
   "source": [
    "### K-Nearest neighbors"
   ]
  },
  {
   "cell_type": "code",
   "execution_count": 54,
   "metadata": {},
   "outputs": [],
   "source": [
    "X = df[['WEATHER','ROADCOND','LIGHTCOND','ADDRTYPE','JUNCTIONTYPE']].values.astype(float)\n",
    "y = df['SEVERITYCODE'].values"
   ]
  },
  {
   "cell_type": "code",
   "execution_count": 55,
   "metadata": {},
   "outputs": [],
   "source": [
    "from sklearn import preprocessing"
   ]
  },
  {
   "cell_type": "code",
   "execution_count": 56,
   "metadata": {},
   "outputs": [],
   "source": [
    "#Data Standardization give data zero mean and unit variance, it is good practice\n",
    "X = preprocessing.StandardScaler().fit(X).transform(X.astype(float))"
   ]
  },
  {
   "cell_type": "code",
   "execution_count": 57,
   "metadata": {},
   "outputs": [
    {
     "name": "stdout",
     "output_type": "stream",
     "text": [
      "Train set: (146316, 5) (146316,)\n",
      "Test set: (36579, 5) (36579,)\n"
     ]
    }
   ],
   "source": [
    "from sklearn.model_selection import train_test_split\n",
    "X_train, X_test, y_train, y_test = train_test_split( X, y, test_size=0.2, random_state=4)\n",
    "print ('Train set:', X_train.shape,  y_train.shape)\n",
    "print ('Test set:', X_test.shape,  y_test.shape)"
   ]
  },
  {
   "cell_type": "code",
   "execution_count": 60,
   "metadata": {},
   "outputs": [
    {
     "name": "stdout",
     "output_type": "stream",
     "text": [
      "Train set Accuracy:  0.6049987697859428\n",
      "Test set Accuracy:  0.6013559692719866\n"
     ]
    }
   ],
   "source": [
    "from sklearn.neighbors import KNeighborsClassifier\n",
    "from sklearn import metrics\n",
    "print(\"Train set Accuracy: \", metrics.accuracy_score(y_train, neigh.predict(X_train)))\n",
    "print(\"Test set Accuracy: \", metrics.accuracy_score(y_test, yhat))\n"
   ]
  },
  {
   "cell_type": "code",
   "execution_count": 61,
   "metadata": {},
   "outputs": [
    {
     "data": {
      "text/plain": [
       "array([0.60135597, 0.67615298, 0.66412422, 0.67650838, 0.66860767,\n",
       "       0.68591268, 0.67147817, 0.68181197, 0.67664507, 0.67847672,\n",
       "       0.67552421, 0.678176  , 0.67790262, 0.67820334, 0.67705514,\n",
       "       0.68268679, 0.68203067, 0.68337024, 0.68244074, 0.68282348,\n",
       "       0.68233139, 0.68285082, 0.68285082, 0.68301484])"
      ]
     },
     "execution_count": 61,
     "metadata": {},
     "output_type": "execute_result"
    }
   ],
   "source": [
    "ks = 25\n",
    "mean_acc = np.zeros((ks-1))\n",
    "std_acc = np.zeros((ks-1))\n",
    "ConfusionMx = [];\n",
    "for n in range(1,ks):\n",
    "    \n",
    "    #Training model using training dataset\n",
    "    neigh = KNeighborsClassifier(n_neighbors = n).fit(X_train,y_train)\n",
    "    #Prediction using Test dataset\n",
    "    yhat = neigh.predict(X_test)\n",
    "    #Finding accuracy of the model by comparing actual and predicted values from test dataset\n",
    "    mean_acc[n-1]= metrics.accuracy_score(y_test, yhat)\n",
    "    \n",
    "    std_acc[n-1]= np.std(yhat==y_test)/np.sqrt(yhat.shape[0])\n",
    "    \n",
    "mean_acc\n",
    "    "
   ]
  },
  {
   "cell_type": "markdown",
   "metadata": {},
   "source": [
    "### Plot model accuracy for different number of Neighbors"
   ]
  },
  {
   "cell_type": "code",
   "execution_count": 74,
   "metadata": {},
   "outputs": [
    {
     "ename": "NameError",
     "evalue": "name 'Ks' is not defined",
     "output_type": "error",
     "traceback": [
      "\u001b[1;31m---------------------------------------------------------------------------\u001b[0m",
      "\u001b[1;31mNameError\u001b[0m                                 Traceback (most recent call last)",
      "\u001b[1;32m<ipython-input-74-8072d896a064>\u001b[0m in \u001b[0;36m<module>\u001b[1;34m\u001b[0m\n\u001b[0;32m      1\u001b[0m \u001b[0mplt\u001b[0m\u001b[1;33m.\u001b[0m\u001b[0mplot\u001b[0m\u001b[1;33m(\u001b[0m\u001b[0mrange\u001b[0m\u001b[1;33m(\u001b[0m\u001b[1;36m1\u001b[0m\u001b[1;33m,\u001b[0m\u001b[0mks\u001b[0m\u001b[1;33m)\u001b[0m\u001b[1;33m,\u001b[0m\u001b[0mmean_acc\u001b[0m\u001b[1;33m,\u001b[0m\u001b[1;34m'g'\u001b[0m\u001b[1;33m)\u001b[0m\u001b[1;33m\u001b[0m\u001b[1;33m\u001b[0m\u001b[0m\n\u001b[1;32m----> 2\u001b[1;33m \u001b[0mplt\u001b[0m\u001b[1;33m.\u001b[0m\u001b[0mfill_between\u001b[0m\u001b[1;33m(\u001b[0m\u001b[0mrange\u001b[0m\u001b[1;33m(\u001b[0m\u001b[1;36m1\u001b[0m\u001b[1;33m,\u001b[0m\u001b[0mKs\u001b[0m\u001b[1;33m)\u001b[0m\u001b[1;33m,\u001b[0m\u001b[0mmean_acc\u001b[0m \u001b[1;33m-\u001b[0m \u001b[1;36m1\u001b[0m \u001b[1;33m*\u001b[0m \u001b[0mstd_acc\u001b[0m\u001b[1;33m,\u001b[0m\u001b[0mmean_acc\u001b[0m \u001b[1;33m+\u001b[0m \u001b[1;36m1\u001b[0m \u001b[1;33m*\u001b[0m \u001b[0mstd_acc\u001b[0m\u001b[1;33m,\u001b[0m \u001b[0malpha\u001b[0m\u001b[1;33m=\u001b[0m\u001b[1;36m0.10\u001b[0m\u001b[1;33m)\u001b[0m\u001b[1;33m\u001b[0m\u001b[1;33m\u001b[0m\u001b[0m\n\u001b[0m\u001b[0;32m      3\u001b[0m \u001b[0mplt\u001b[0m\u001b[1;33m.\u001b[0m\u001b[0mlegend\u001b[0m\u001b[1;33m(\u001b[0m\u001b[1;33m(\u001b[0m\u001b[1;34m'Accuracy '\u001b[0m\u001b[1;33m,\u001b[0m \u001b[1;34m'+/- 3xstd'\u001b[0m\u001b[1;33m)\u001b[0m\u001b[1;33m)\u001b[0m\u001b[1;33m\u001b[0m\u001b[1;33m\u001b[0m\u001b[0m\n\u001b[0;32m      4\u001b[0m \u001b[0mplt\u001b[0m\u001b[1;33m.\u001b[0m\u001b[0mylabel\u001b[0m\u001b[1;33m(\u001b[0m\u001b[1;34m'Accuracy '\u001b[0m\u001b[1;33m)\u001b[0m\u001b[1;33m\u001b[0m\u001b[1;33m\u001b[0m\u001b[0m\n\u001b[0;32m      5\u001b[0m \u001b[0mplt\u001b[0m\u001b[1;33m.\u001b[0m\u001b[0mxlabel\u001b[0m\u001b[1;33m(\u001b[0m\u001b[1;34m'Number of Nabors (K)'\u001b[0m\u001b[1;33m)\u001b[0m\u001b[1;33m\u001b[0m\u001b[1;33m\u001b[0m\u001b[0m\n",
      "\u001b[1;31mNameError\u001b[0m: name 'Ks' is not defined"
     ]
    },
    {
     "data": {
      "image/png": "[encoded data removed]",
      "text/plain": [
       "<Figure size 432x288 with 1 Axes>"
      ]
     },
     "metadata": {
      "needs_background": "light"
     },
     "output_type": "display_data"
    }
   ],
   "source": [
    "plt.plot(range(1,ks),mean_acc,'g')\n",
    "plt.fill_between(range(1,Ks),mean_acc - 1 * std_acc,mean_acc + 1 * std_acc, alpha=0.10)\n",
    "plt.legend(('Accuracy ', '+/- 3xstd'))\n",
    "plt.ylabel('Accuracy ')\n",
    "plt.xlabel('Number of Nabors (K)')\n",
    "plt.tight_layout()\n",
    "plt.show()"
   ]
  },
  {
   "cell_type": "code",
   "execution_count": 75,
   "metadata": {},
   "outputs": [
    {
     "name": "stdout",
     "output_type": "stream",
     "text": [
      "The best accuracy was with 0.6859126821400257 with k= 6\n"
     ]
    }
   ],
   "source": [
    "print( \"The best accuracy was with\", mean_acc.max(), \"with k=\", mean_acc.argmax()+1) "
   ]
  },
  {
   "cell_type": "markdown",
   "metadata": {},
   "source": [
    "### Decision Tree"
   ]
  },
  {
   "cell_type": "code",
   "execution_count": 65,
   "metadata": {},
   "outputs": [],
   "source": [
    "from sklearn.tree import DecisionTreeClassifier"
   ]
  },
  {
   "cell_type": "code",
   "execution_count": 69,
   "metadata": {},
   "outputs": [
    {
     "data": {
      "text/plain": [
       "DecisionTreeClassifier(criterion='entropy', max_depth=4)"
      ]
     },
     "execution_count": 69,
     "metadata": {},
     "output_type": "execute_result"
    }
   ],
   "source": [
    "dTree = DecisionTreeClassifier(criterion=\"entropy\", max_depth = 4)\n",
    "dTree # it shows the default parameters"
   ]
  },
  {
   "cell_type": "markdown",
   "metadata": {},
   "source": [
    "#### Training model using Training dataset"
   ]
  },
  {
   "cell_type": "code",
   "execution_count": 70,
   "metadata": {},
   "outputs": [
    {
     "data": {
      "text/plain": [
       "DecisionTreeClassifier(criterion='entropy', max_depth=4)"
      ]
     },
     "execution_count": 70,
     "metadata": {},
     "output_type": "execute_result"
    }
   ],
   "source": [
    "dTree.fit(X_train,y_train)"
   ]
  },
  {
   "cell_type": "markdown",
   "metadata": {},
   "source": [
    "#### Prediction on testing dataset"
   ]
  },
  {
   "cell_type": "code",
   "execution_count": 71,
   "metadata": {},
   "outputs": [],
   "source": [
    "pTree = dTree.predict(X_test)"
   ]
  },
  {
   "cell_type": "code",
   "execution_count": 72,
   "metadata": {},
   "outputs": [
    {
     "name": "stdout",
     "output_type": "stream",
     "text": [
      "[1 1 1 1 1]\n",
      "[2 1 2 1 1]\n"
     ]
    }
   ],
   "source": [
    "print (pTree [0:5])\n",
    "print (y_test [0:5])"
   ]
  },
  {
   "cell_type": "markdown",
   "metadata": {},
   "source": [
    "#### Evaluation"
   ]
  },
  {
   "cell_type": "code",
   "execution_count": 73,
   "metadata": {
    "scrolled": true
   },
   "outputs": [
    {
     "name": "stdout",
     "output_type": "stream",
     "text": [
      "DecisionTrees's Accuracy:  0.6878536865414582\n"
     ]
    }
   ],
   "source": [
    "print(\"DecisionTrees's Accuracy: \", metrics.accuracy_score(y_test, pTree))"
   ]
  },
  {
   "cell_type": "markdown",
   "metadata": {},
   "source": [
    "### Logistic Regression"
   ]
  },
  {
   "cell_type": "code",
   "execution_count": 76,
   "metadata": {},
   "outputs": [
    {
     "data": {
      "text/plain": [
       "LogisticRegression(C=0.01, solver='liblinear')"
      ]
     },
     "execution_count": 76,
     "metadata": {},
     "output_type": "execute_result"
    }
   ],
   "source": [
    "from sklearn.linear_model import LogisticRegression\n",
    "from sklearn.metrics import confusion_matrix\n",
    "LR = LogisticRegression(C=0.01, solver='liblinear').fit(X_train,y_train)\n",
    "LR"
   ]
  },
  {
   "cell_type": "code",
   "execution_count": 77,
   "metadata": {},
   "outputs": [
    {
     "data": {
      "text/plain": [
       "array([1, 1, 1, ..., 1, 1, 1], dtype=int64)"
      ]
     },
     "execution_count": 77,
     "metadata": {},
     "output_type": "execute_result"
    }
   ],
   "source": [
    "#predicting values using test dataset\n",
    "yhat = LR.predict(X_test)\n",
    "yhat"
   ]
  },
  {
   "cell_type": "code",
   "execution_count": 78,
   "metadata": {},
   "outputs": [
    {
     "data": {
      "text/plain": [
       "array([[0.58760304, 0.41239696],\n",
       "       [0.76175205, 0.23824795],\n",
       "       [0.75544903, 0.24455097],\n",
       "       ...,\n",
       "       [0.55316008, 0.44683992],\n",
       "       [0.75544903, 0.24455097],\n",
       "       [0.75544903, 0.24455097]])"
      ]
     },
     "execution_count": 78,
     "metadata": {},
     "output_type": "execute_result"
    }
   ],
   "source": [
    "#predicting probability of 1 or 0 using test dataset\n",
    "yhat_prob = LR.predict_proba(X_test)\n",
    "yhat_prob"
   ]
  },
  {
   "cell_type": "markdown",
   "metadata": {},
   "source": [
    "#### Model Evaluation using jaccard Index"
   ]
  },
  {
   "cell_type": "code",
   "execution_count": 80,
   "metadata": {},
   "outputs": [
    {
     "data": {
      "text/plain": [
       "0.6824328038256472"
      ]
     },
     "execution_count": 80,
     "metadata": {},
     "output_type": "execute_result"
    }
   ],
   "source": [
    "from sklearn.metrics import jaccard_score\n",
    "jaccard_score(y_test, yhat)"
   ]
  },
  {
   "cell_type": "code",
   "execution_count": 87,
   "metadata": {},
   "outputs": [],
   "source": [
    "from sklearn.metrics import classification_report, confusion_matrix, log_loss\n"
   ]
  },
  {
   "cell_type": "code",
   "execution_count": 88,
   "metadata": {},
   "outputs": [
    {
     "name": "stdout",
     "output_type": "stream",
     "text": [
      "Score: 0.6841083681893982\n",
      "F1-Score: 0.8112452423346456\n",
      "\n",
      "Confusion Matrix:\n",
      "[[24831   330]\n",
      " [11225   193]]\n",
      "\n",
      "Classification Report:\n",
      "              precision    recall  f1-score   support\n",
      "\n",
      "           1       0.69      0.99      0.81     25161\n",
      "           2       0.37      0.02      0.03     11418\n",
      "\n",
      "    accuracy                           0.68     36579\n",
      "   macro avg       0.53      0.50      0.42     36579\n",
      "weighted avg       0.59      0.68      0.57     36579\n",
      "\n",
      "\n",
      "0.5970357851007474\n"
     ]
    }
   ],
   "source": [
    "print('Score:',metrics.accuracy_score(yhat,y_test))\n",
    "print('F1-Score:',metrics.f1_score(yhat,y_test))\n",
    "print('')\n",
    "print('Confusion Matrix:')\n",
    "print(confusion_matrix(y_test,yhat))\n",
    "print('')\n",
    "print('Classification Report:')\n",
    "print(classification_report(y_test,yhat))\n",
    "print('')\n",
    "print(log_loss(y_test, yhat_prob))"
   ]
  },
  {
   "cell_type": "markdown",
   "metadata": {},
   "source": [
    "##### End of Notebook"
   ]
  },
  {
   "cell_type": "code",
   "execution_count": null,
   "metadata": {},
   "outputs": [],
   "source": []
  }
 ],
 "metadata": {
  "kernelspec": {
   "display_name": "Python 3",
   "language": "python",
   "name": "python3"
  },
  "language_info": {
   "codemirror_mode": {
    "name": "ipython",
    "version": 3
   },
   "file_extension": ".py",
   "mimetype": "text/x-python",
   "name": "python",
   "nbconvert_exporter": "python",
   "pygments_lexer": "ipython3",
   "version": "3.8.1"
  }
 },
 "nbformat": 4,
 "nbformat_minor": 4
}
